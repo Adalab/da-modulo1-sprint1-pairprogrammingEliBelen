{
 "cells": [
  {
   "cell_type": "markdown",
   "metadata": {},
   "source": [
    "                    EJERCICIOS DICCIONARIOS"
   ]
  },
  {
   "cell_type": "code",
   "execution_count": 19,
   "metadata": {},
   "outputs": [],
   "source": [
    "#1.\n",
    "#Crear un diccionario vacío\n",
    "#Descripción: Crea un diccionario vacío sin ningún par clave-valor.\n",
    "\n",
    "diccionario_vacio= {}"
   ]
  },
  {
   "cell_type": "code",
   "execution_count": 20,
   "metadata": {},
   "outputs": [],
   "source": [
    "#2.\n",
    "#Crear un diccionario con elementos\n",
    "#Descripción: Crea un diccionario con pares clave-valor predefinidos. \n",
    "#Definir el diccionario con las claves y valores que querais. \n",
    "#NOTA El diccionario debe tener al menos 5 pares de clave:valor.\n",
    "diccionario1 = {\"patricia\": 28,\"Nuria\": 35,\"Maria\": 38,\"Eva\": 25,\"Marta\":33}"
   ]
  },
  {
   "cell_type": "code",
   "execution_count": 21,
   "metadata": {},
   "outputs": [],
   "source": [
    "#3.Acceder al valor de una clave en un diccionario\n",
    "#Descripción: Usando el diccionario creado en el paso anterior, \n",
    "#obtén el valor correspondiente a una clave específica \n",
    "#que indique el usuario (debereis usar la función input()\n",
    "# para preguntar al usuario).\n",
    "\n",
    "\n",
    "#respuesta_usuario = input(\"Introduzca nombre\")\n",
    "\n",
    "\n",
    "\n",
    "\n",
    "\n",
    "\n"
   ]
  },
  {
   "cell_type": "code",
   "execution_count": 22,
   "metadata": {},
   "outputs": [],
   "source": [
    "#4.Agregar un nuevo par clave-valor a un diccionario\n",
    "#Descripción: Usando el diccionario creado en el ejercicio 2,\n",
    "# agrega un nuevo par clave-valor.\n",
    "\n",
    "nuevo_elemento = {\"sofia\" : 30}\n",
    "diccionario1.update(nuevo_elemento)\n"
   ]
  },
  {
   "cell_type": "code",
   "execution_count": 23,
   "metadata": {},
   "outputs": [
    {
     "data": {
      "text/plain": [
       "{'patricia': 28, 'Nuria': 30, 'Maria': 38, 'Eva': 25, 'Marta': 33, 'sofia': 30}"
      ]
     },
     "execution_count": 23,
     "metadata": {},
     "output_type": "execute_result"
    }
   ],
   "source": [
    "#5.\n",
    "##Actualizar el valor de una clave en un diccionario\n",
    "#Descripción: Usando el diccionario creado en el ejercicio 2, \n",
    "#actualiza el valor correspondiente a una clave existente. Ejemplo:\n",
    "# dado el siguiente diccionario\n",
    "#{'nombre': 'Ana', 'edad': 25, 'ciudad': 'Madrid', 'hijos': 1}\n",
    "\n",
    "# el ouptut esperado es: (ha cambiado el valor de la clave edad)\n",
    "#{'nombre': 'Ana', 'edad': 40, 'ciudad': 'Madrid', 'hijos': 1}\n",
    "\n",
    "diccionario1[\"Nuria\"] = 30\n",
    "diccionario1"
   ]
  },
  {
   "cell_type": "code",
   "execution_count": 24,
   "metadata": {},
   "outputs": [
    {
     "name": "stdout",
     "output_type": "stream",
     "text": [
      "{'patricia': 28, 'Maria': 38, 'Eva': 25, 'Marta': 33, 'sofia': 30}\n"
     ]
    }
   ],
   "source": [
    "#6.\n",
    "#Eliminar un par clave-valor de un diccionario\n",
    "#Descripción: Usando el diccionario creado en el ejercicio 2,\n",
    "# elimina un par clave-valor específico que indique el usuario \n",
    "#(debereis usar la función input() para preguntar al usuario). \n",
    "respuesta = input(\"introduzca nombre\")\n",
    "\n",
    "diccionario1.pop(respuesta)\n",
    "print (diccionario1)"
   ]
  },
  {
   "cell_type": "code",
   "execution_count": 25,
   "metadata": {},
   "outputs": [
    {
     "data": {
      "text/plain": [
       "True"
      ]
     },
     "execution_count": 25,
     "metadata": {},
     "output_type": "execute_result"
    }
   ],
   "source": [
    "#7.\n",
    "#Verificar si una clave está presente en un diccionario\n",
    "#Descripción: Usando el diccionario creado en el ejercicio 2,\n",
    "# verifica si una clave específica está presente en él. \n",
    "#La clave a buscar debe ser pasada por el usuario, debereis usar un input().\n",
    "\n",
    "#Hemos buscado por Nuria en este caso\n",
    "respuesta = input(\"introduzca nombre\")\n",
    "respuesta in diccionario1\n"
   ]
  },
  {
   "cell_type": "code",
   "execution_count": 26,
   "metadata": {},
   "outputs": [
    {
     "name": "stdout",
     "output_type": "stream",
     "text": [
      "dict_keys(['patricia', 'Maria', 'Eva', 'Marta', 'sofia'])\n"
     ]
    }
   ],
   "source": [
    "#8.\n",
    "#Obtener una lista de todas las claves de un diccionario\n",
    "#Descripción: Usando el diccionario creado en el ejercicio 2,\n",
    "# obtén una lista con todas las claves que contiene.\n",
    "print(diccionario1.keys())\n"
   ]
  },
  {
   "cell_type": "code",
   "execution_count": 27,
   "metadata": {},
   "outputs": [
    {
     "name": "stdout",
     "output_type": "stream",
     "text": [
      "dict_values([28, 38, 25, 33, 30])\n"
     ]
    }
   ],
   "source": [
    "#9.\n",
    "#Obtener una lista de todos los valores de un diccionario\n",
    "#Descripción: Usando el diccionario creado en el ejercicio 2, \n",
    "#obtén una lista con todos los valores que contiene.#\n",
    "print(diccionario1.values())\n"
   ]
  },
  {
   "cell_type": "code",
   "execution_count": 28,
   "metadata": {},
   "outputs": [
    {
     "data": {
      "text/plain": [
       "'No existe este nombre'"
      ]
     },
     "execution_count": 28,
     "metadata": {},
     "output_type": "execute_result"
    }
   ],
   "source": [
    "#10.\n",
    "#Utilizar el método setdefault() para establecer un valor predeterminado \n",
    "#si la clave no existe\n",
    "#Descripción: Usando el diccionario creado en el ejercicio 2, \n",
    "#obten el valor correspondiente a una clave. Si la clave no existe, \n",
    "#establece un valor predeterminado y devuelve dicho valor.\n",
    "diccionario1.get(\"Eli\",\"No existe este nombre\")\n"
   ]
  },
  {
   "cell_type": "code",
   "execution_count": 34,
   "metadata": {},
   "outputs": [
    {
     "name": "stdout",
     "output_type": "stream",
     "text": [
      "{'patricia': 28, 'Eva': 25, 'Marta': 33}\n",
      "{'patricia': 28, 'Eva': 25, 'Marta': 33}\n",
      "{'patricia': 28, 'Eva': 25}\n"
     ]
    }
   ],
   "source": [
    "#11.\n",
    "#Manipulación de un diccionario utilizando pop() y popitem()\n",
    "#Descripción: Usando el diccionario creado en el ejercicio 2, \n",
    "#realiza operaciones de eliminación utilizando pop() y popitem(), \n",
    "# y observa cómo afectan al diccionario.\n",
    "print(diccionario1)\n",
    "#diccionario1.pop(\"Maria\")\n",
    "print(diccionario1)\n",
    "diccionario1.popitem()\n",
    "print(diccionario1)\n"
   ]
  },
  {
   "cell_type": "markdown",
   "metadata": {},
   "source": [
    "        EJERCICIOS SET"
   ]
  },
  {
   "cell_type": "code",
   "execution_count": 30,
   "metadata": {},
   "outputs": [],
   "source": [
    "#1.\n",
    "#Crear un conjunto vacío\n",
    "#Descripción: Crea un conjunto vacío sin ningún elemento.\n",
    "set1= {}"
   ]
  },
  {
   "cell_type": "code",
   "execution_count": 36,
   "metadata": {},
   "outputs": [],
   "source": [
    "#2.\n",
    "#Crear un conjunto con elementos\n",
    "#Descripción: Crea un conjunto con elementos predefinidos.\n",
    "set2 = {'mesa','silla','armario','sofa'}"
   ]
  },
  {
   "cell_type": "code",
   "execution_count": 38,
   "metadata": {},
   "outputs": [
    {
     "data": {
      "text/plain": [
       "{'armario', 'caja', 'cajon', 'lampara', 'mesa', 'silla', 'sofa'}"
      ]
     },
     "execution_count": 38,
     "metadata": {},
     "output_type": "execute_result"
    }
   ],
   "source": [
    "#3.\n",
    "#Agregar elementos a un conjunto\n",
    "#Descripción: Usando el set creado en el ejercicio 2, agrega nuevos elementos. \n",
    "#Debereis agregar por separado:\n",
    "#Un elemento solo\n",
    "#Un par de elementos a la vez.#\n",
    "set2.add('lampara')\n",
    "actualizacion = ['caja','cajon']\n",
    "set2.update(actualizacion)\n",
    "set2"
   ]
  },
  {
   "cell_type": "code",
   "execution_count": 42,
   "metadata": {},
   "outputs": [
    {
     "data": {
      "text/plain": [
       "{'armario', 'caja', 'mesa', 'silla', 'sofa'}"
      ]
     },
     "execution_count": 42,
     "metadata": {},
     "output_type": "execute_result"
    }
   ],
   "source": [
    "#4.\n",
    "#Eliminar un elemento de un conjunto\n",
    "#Descripción: Usando el set creado en el ejercicio 2, \n",
    "#elimina un elemento especificado por el usuario.\n",
    "#elemento_eliminar = ['armario','caja','cajon','lampara','mesa','silla','sofa']\n",
    "respuesta_usuario = input ('qué elemento desea eliminar: ')\n",
    "set2.remove(respuesta_usuario)\n",
    "set2"
   ]
  },
  {
   "cell_type": "markdown",
   "metadata": {},
   "source": []
  },
  {
   "cell_type": "code",
   "execution_count": 43,
   "metadata": {},
   "outputs": [
    {
     "data": {
      "text/plain": [
       "True"
      ]
     },
     "execution_count": 43,
     "metadata": {},
     "output_type": "execute_result"
    }
   ],
   "source": [
    "#5.\n",
    "#Verificar la pertenencia de un elemento en un conjunto\n",
    "#Descripción: Usando el set creado en el ejercicio 2, \n",
    "#verifica si un elemento específico está presente en él.\n",
    "\n",
    "'armario' in set2"
   ]
  },
  {
   "cell_type": "code",
   "execution_count": 45,
   "metadata": {},
   "outputs": [
    {
     "name": "stdout",
     "output_type": "stream",
     "text": [
      "{'mesa', 'sofa', 'silla', 'caja', 'armario'}\n",
      "{'escritorio', 'puff', 'cama', 'armario'}\n",
      "{'mesa', 'sofa', 'silla', 'caja', 'cama', 'armario', 'puff', 'escritorio'}\n"
     ]
    }
   ],
   "source": [
    "#6.\n",
    "#Realizar una unión de conjuntos\n",
    "#Descripción: Dados dos conjuntos, realiza una unión de ellos.\n",
    "print(set2)\n",
    "set3 = {'escritorio','cama','puff','armario'}\n",
    "print(set3)\n",
    "set_union = set2.union(set3)\n",
    "print(set_union)\n",
    "#armario solo aparecera una vez ya que los sets no permiten la duplicidad de \n",
    "#elementos"
   ]
  },
  {
   "cell_type": "code",
   "execution_count": 46,
   "metadata": {},
   "outputs": [
    {
     "name": "stdout",
     "output_type": "stream",
     "text": [
      "{'armario'}\n"
     ]
    }
   ],
   "source": [
    "#7.\n",
    "#Realizar una intersección de conjuntos\n",
    "#Descripción: Usando dos conjuntos de datos definidos \n",
    "#en el ejercicio anterior, realiza una intersección de ellos.\n",
    "\n",
    "set_interseccion = set2.intersection(set3)\n",
    "print(set_interseccion)"
   ]
  },
  {
   "cell_type": "code",
   "execution_count": 48,
   "metadata": {},
   "outputs": [
    {
     "name": "stdout",
     "output_type": "stream",
     "text": [
      "{'mesa', 'sofa', 'silla', 'caja', 'armario'}\n",
      "{'escritorio', 'puff', 'cama', 'armario'}\n",
      "{'mesa', 'sofa', 'silla', 'caja', 'cama', 'puff', 'escritorio'}\n"
     ]
    }
   ],
   "source": [
    "#8.\n",
    "#Realizar una diferencia de conjuntos\n",
    "#Descripción: Usando dos conjuntos de datos definidos \n",
    "#en el ejercicio anterior, realiza una diferencia entre ellos.\n",
    "print(set2)\n",
    "print(set3)\n",
    "set_diferenciaSimetrica = set2.symmetric_difference(set3)\n",
    "print(set_diferenciaSimetrica)"
   ]
  },
  {
   "cell_type": "code",
   "execution_count": 49,
   "metadata": {},
   "outputs": [
    {
     "name": "stdout",
     "output_type": "stream",
     "text": [
      "{'escritorio', 'puff', 'cama', 'armario'}\n",
      "{'mesa', 'sofa', 'silla', 'caja', 'armario'}\n"
     ]
    },
    {
     "data": {
      "text/plain": [
       "False"
      ]
     },
     "execution_count": 49,
     "metadata": {},
     "output_type": "execute_result"
    }
   ],
   "source": [
    "#9.\n",
    "#Verificar si un conjunto es subconjunto de otro\n",
    "#Descripción: Dados dos conjuntos, verifica si uno\n",
    "# es subconjunto del otro.\n",
    "\n",
    "print(set3)\n",
    "print(set2)\n",
    "\n",
    "set3.issubset(set2)\n"
   ]
  }
 ],
 "metadata": {
  "kernelspec": {
   "display_name": "base",
   "language": "python",
   "name": "python3"
  },
  "language_info": {
   "codemirror_mode": {
    "name": "ipython",
    "version": 3
   },
   "file_extension": ".py",
   "mimetype": "text/x-python",
   "name": "python",
   "nbconvert_exporter": "python",
   "pygments_lexer": "ipython3",
   "version": "3.9.7"
  }
 },
 "nbformat": 4,
 "nbformat_minor": 2
}
