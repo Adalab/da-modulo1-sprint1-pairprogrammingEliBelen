{
 "cells": [
  {
   "cell_type": "markdown",
   "metadata": {},
   "source": [
    "Ejercicio 1\n",
    "Verificar si un número es positivo, negativo o cero\n",
    "Descripción: Dado un número, verifica si es positivo, negativo o cero."
   ]
  },
  {
   "cell_type": "code",
   "execution_count": 5,
   "metadata": {},
   "outputs": [
    {
     "name": "stdout",
     "output_type": "stream",
     "text": [
      "el número 5 es positivo\n"
     ]
    }
   ],
   "source": [
    "num1=5\n",
    "if num1>0:\n",
    "    print(f'El número {num1} es positivo')\n",
    "    \n",
    "if num1<0:\n",
    "    print(f'El número {num1} es negativo')\n",
    "    \n",
    "if num1==0:\n",
    "    print(f'El número {num1} es 0')\n",
    "    \n"
   ]
  },
  {
   "cell_type": "markdown",
   "metadata": {},
   "source": [
    "Ejercicio 2\n",
    "Verificar si un número es par o impar\n",
    "Descripción: Dado un número, verifica si es par o impar."
   ]
  },
  {
   "cell_type": "code",
   "execution_count": 25,
   "metadata": {},
   "outputs": [
    {
     "name": "stdout",
     "output_type": "stream",
     "text": [
      "3 es impar\n"
     ]
    }
   ],
   "source": [
    "num2= int(input('Escriba un número'))\n",
    "if num2%2==0:\n",
    "    print(f'{num2} es par')\n",
    "else:\n",
    "    print(f'{num2} es impar')\n"
   ]
  },
  {
   "cell_type": "markdown",
   "metadata": {},
   "source": [
    "Ejercicio 3\n",
    "Verificar si un estudiante aprobó o suspendió un examen\n",
    "Descripción: Dada la calificación de un estudiante en un examen, verifica si aprobó o suspendió (si la calificación es mayor o igual a 60 se considera aprobado)."
   ]
  },
  {
   "cell_type": "code",
   "execution_count": 30,
   "metadata": {},
   "outputs": [
    {
     "name": "stdout",
     "output_type": "stream",
     "text": [
      "aprobado\n"
     ]
    }
   ],
   "source": [
    "calificacion= int(input('Esccriba un número'))\n",
    "if calificacion>=60:\n",
    "    print('Aprobado')\n",
    "else:\n",
    "    print('Suspenso')"
   ]
  },
  {
   "cell_type": "markdown",
   "metadata": {},
   "source": [
    "Ejercicio 4\n",
    "Calcular el máximo entre dos números\n",
    "Descripción: Dados dos números, encuentra el máximo entre ellos."
   ]
  },
  {
   "cell_type": "code",
   "execution_count": 42,
   "metadata": {},
   "outputs": [
    {
     "name": "stdout",
     "output_type": "stream",
     "text": [
      "el número 40 es mayor que 20\n"
     ]
    }
   ],
   "source": [
    "num3=int(input('escriba un número'))\n",
    "num4=int(input('escriba otro número'))\n",
    "if num3==num4:\n",
    "    print(f'Los números {num3,num4} son iguales')\n",
    "elif num3<num4:\n",
    "    print(f'El número {num3} es menor que {num4}')\n",
    "else:\n",
    "    print(f'El número {num3} es mayor que {num4}')"
   ]
  },
  {
   "cell_type": "markdown",
   "metadata": {},
   "source": [
    "Ejercicio 5\n",
    "Verificar si una letra es una vocal o una consonante\n",
    "Descripción: Dada una letra, verifica si es una vocal o una consonante.\n"
   ]
  },
  {
   "cell_type": "code",
   "execution_count": 48,
   "metadata": {},
   "outputs": [
    {
     "name": "stdout",
     "output_type": "stream",
     "text": [
      "La letra y es una consonante\n"
     ]
    }
   ],
   "source": [
    "letra1=input('Escriba una letra').lower()\n",
    "if letra1== 'a' or letra1 == 'e' or letra1 == 'i' or letra1== 'o' or letra1=='u':\n",
    "    print (f'La letra {letra1} es una vocal')\n",
    "else: \n",
    "    print (f'La letra {letra1} es una consonante')\n",
    "    "
   ]
  },
  {
   "cell_type": "markdown",
   "metadata": {},
   "source": [
    "Ejercicio 6\n",
    "Calcular el descuento en una compra según el monto total\n",
    "Descripción: Dado el monto total de una compra, calcula el descuento aplicado según las siguientes condiciones: si el monto es mayor o igual a $100, aplica un descuento del 10%; de lo contrario, no aplica ningún descuento."
   ]
  },
  {
   "cell_type": "code",
   "execution_count": 83,
   "metadata": {},
   "outputs": [
    {
     "name": "stdout",
     "output_type": "stream",
     "text": [
      "El importe total a pagar es $91.8. Ha obtenido un descuento de $10.2\n"
     ]
    }
   ],
   "source": [
    "compra= int(input('Introduzca el importe total de la compra'))\n",
    "if compra>=100:\n",
    "    descuento = round(compra *0.1,2)\n",
    "    compra=compra-descuento\n",
    "    print(f'El importe total a pagar es ${compra}. Ha obtenido un descuento de ${descuento}')\n",
    "else:\n",
    "    print('La compra no tiene descuento.')"
   ]
  },
  {
   "cell_type": "markdown",
   "metadata": {},
   "source": []
  },
  {
   "cell_type": "markdown",
   "metadata": {},
   "source": [
    "Ejercicio 7\n",
    "Verificar si un año es bisiesto o no\n",
    "Descripción: Dado un año, verifica si es bisiesto o no (un año es bisiesto si es divisible entre 4, excepto aquellos divisibles entre 100 pero no entre 400)."
   ]
  },
  {
   "cell_type": "code",
   "execution_count": 6,
   "metadata": {},
   "outputs": [
    {
     "name": "stdout",
     "output_type": "stream",
     "text": [
      "801 no es un año bisiesto\n"
     ]
    }
   ],
   "source": [
    "year= int(input('Escriba un año'))\n",
    "if year%4==0 or year%100==0 or year%400==0:\n",
    "    print(f'{year} es un año bisiesto')\n",
    "else:\n",
    "    print(f'{year} no es un año bisiesto')"
   ]
  },
  {
   "cell_type": "markdown",
   "metadata": {},
   "source": [
    "Ejercicio 8\n",
    "Asignar una categoría a una edad\n",
    "Descripción: Dada una edad, asigna una categoría según las siguientes condiciones: si la edad es menor de 18, la categoría es \"Menor de edad\"; si la edad está entre 18 y 64 (incluyendo ambos), la categoría es \"Adulto\"; de lo contrario, la categoría es \"Adulto mayor\"."
   ]
  },
  {
   "cell_type": "code",
   "execution_count": 70,
   "metadata": {},
   "outputs": [
    {
     "name": "stdout",
     "output_type": "stream",
     "text": [
      "Es menor de edad\n"
     ]
    }
   ],
   "source": [
    "edad=int(input('Introduzca la edad en años'))\n",
    "if edad < 0:\n",
    "    print(f'La edad introducida {edad} años no es correcta.')\n",
    "if edad<18:\n",
    "    print('Es menor de edad')\n",
    "elif 18<=edad<=64:\n",
    "    print('Es adulto')\n",
    "else:\n",
    "    print('Es un adulto mayor')\n"
   ]
  },
  {
   "cell_type": "markdown",
   "metadata": {},
   "source": [
    "Ejercicio 9\n",
    "Verificar si tres números forman un triángulo rectángulo\n",
    "Descripción: Dados tres números, verifica si forman un triángulo rectángulo (si se cumple el teorema de Pitágoras)."
   ]
  },
  {
   "cell_type": "code",
   "execution_count": 67,
   "metadata": {},
   "outputs": [
    {
     "name": "stdout",
     "output_type": "stream",
     "text": [
      "el triángulo es rectángulo\n"
     ]
    }
   ],
   "source": [
    "a=float(input('número 1'))\n",
    "b=float(input('número 2'))\n",
    "c=float(input('número 3'))\n",
    "#c=a**2+b**2\n",
    "#c=a+b\n",
    "if a**2+b**2==c**2:\n",
    "    print('El triángulo es rectángulo.')\n",
    "else:\n",
    "    print('El triángulo no es rectángulo.')\n",
    "\n"
   ]
  },
  {
   "cell_type": "markdown",
   "metadata": {},
   "source": [
    "Ejercicio 10\n",
    "Asignar una calificación a una puntuación\n",
    "Descripción: Dada una puntuación, asigna una calificación según las siguientes condiciones: si la puntuación es mayor o igual a 90, la calificación es \"A\"; si es mayor o igual a 80, la calificación es \"B\"; si es mayor o igual a 70, la calificación es \"C\"; si es mayor o igual a 60, la calificación es \"D\"; de lo contrario, la calificación es \"F\"."
   ]
  },
  {
   "cell_type": "code",
   "execution_count": 29,
   "metadata": {},
   "outputs": [
    {
     "name": "stdout",
     "output_type": "stream",
     "text": [
      "la calificación es B\n"
     ]
    }
   ],
   "source": [
    "var_calificacion= int(input('Escriba la calificación'))\n",
    "if var_calificacion>=90:\n",
    "    print('La calificación es A')\n",
    "elif var_calificacion>=80 and var_calificacion<90:\n",
    "    print('La calificación es B')\n",
    "elif var_calificacion>=70 and var_calificacion<80:\n",
    "    print('La calificación es C')\n",
    "elif var_calificacion>=60 and var_calificacion<70:\n",
    "    print('La calificación es D')\n",
    "else:\n",
    "    print('La calificación es F')"
   ]
  },
  {
   "cell_type": "markdown",
   "metadata": {},
   "source": [
    "Ejercicio 11\n",
    "Calcular el índice de masa corporal (IMC) y categorizarlo\n",
    "Descripción: Dados el peso (en kg) y la altura (en metros) de una persona, calcula su IMC y categorízalo según las siguientes condiciones: si el IMC es menor a 18.5, es \"Bajo peso\"; si está entre 18.5 y 24.9 (inclusive), es \"Peso normal\"; si está entre 25 y 29.9 (inclusive), es \"Sobrepeso\"; de lo contrario, es \"Obesidad\"."
   ]
  },
  {
   "cell_type": "code",
   "execution_count": 40,
   "metadata": {},
   "outputs": [
    {
     "name": "stdout",
     "output_type": "stream",
     "text": [
      "tienes un peso normal\n"
     ]
    }
   ],
   "source": [
    "peso= int(input('¿Cuál es tu peso?'))\n",
    "altura= float(input('¿Cuál es tu altura?'))\n",
    "IMC= peso/altura**2\n",
    "if IMC<18.5:\n",
    "    print('Tienes bajo peso')\n",
    "elif IMC>18.5 and IMC<=24.9:\n",
    "    print('Tienes un peso normal')\n",
    "elif IMC>25 and IMC<=29.9:\n",
    "    print('Tienes sobrepeso')\n",
    "else:\n",
    "    print('Tienes obesidad')\n",
    "    "
   ]
  },
  {
   "cell_type": "markdown",
   "metadata": {},
   "source": [
    "Ejercicio 12\n",
    "Calcular el mayor de tres números\n",
    "Descripción: Dados tres números, encuentra el mayor entre ellos."
   ]
  },
  {
   "cell_type": "code",
   "execution_count": 66,
   "metadata": {},
   "outputs": [
    {
     "name": "stdout",
     "output_type": "stream",
     "text": [
      "el número mayor es 7\n"
     ]
    }
   ],
   "source": [
    "numero1=int(input('Introduzca el número1'))\n",
    "numero2=int(input('Introduzca el número2'))\n",
    "numero3=int(input('Introduzca el número3'))\n",
    "if numero1 ==numero2==numero3:\n",
    "    print('Los tres números son iguales.')\n",
    "elif numero1>numero2>numero3:\n",
    "    print(f'El número {numero1} es mayor que {numero2} y {numero3}')\n",
    "elif numero2>numero1 and numero2>numero3:\n",
    "    print(f'El número mayor es {numero2}')\n",
    "elif numero3>numero1 and numero3>numero2:\n",
    "    print(f'El número mayor es {numero3}')\n"
   ]
  },
  {
   "cell_type": "markdown",
   "metadata": {},
   "source": [
    "Ejercicio 13\n",
    "BONUS sentencias de control: Verificar la validez de una fecha\n",
    "Descripción: Dados el día, el mes y el año de una fecha, verifica si la fecha es válida."
   ]
  },
  {
   "cell_type": "code",
   "execution_count": 73,
   "metadata": {},
   "outputs": [
    {
     "name": "stdout",
     "output_type": "stream",
     "text": [
      "2019 no es un año bisiesto\n",
      "La fecha 29/2/2019 no es correcta.El mes de Febrero del año 2019 no es bisiesto\n"
     ]
    }
   ],
   "source": [
    "fecha=input('escriba la fecha en formato dd/mm/yyyy')\n",
    "lista_fechas= fecha.split('/')\n",
    "\n",
    "dia=int(lista_fechas[0])\n",
    "mes=int(lista_fechas[1])\n",
    "year=int(lista_fechas[2])\n",
    "#Validamos los dias y los meses \n",
    "if 1<dia<=31 and 1<mes<=12 and 1900<year<=2100:\n",
    "    # Miramos que los meses de 30 no tengan mas dias\n",
    "    if mes==4 or mes==6 or mes==9 or mes==11 and dia ==31:\n",
    "        print(f'La fecha no es correcta. El mes indicado no permite {dias}.')\n",
    "    # filtramos el mes de febrero dandole como maximo 29 dias.\n",
    "    elif mes==2 and dia>=29:\n",
    "        if year%4==0 or year%100==0 or year%400==0:\n",
    "            print(f'{year} es un año bisiesto')\n",
    "            print(f'La fecha es correcta: {dia} / {mes} / {year}')\n",
    "        else:\n",
    "            print(f'{year} no es un año bisiesto')\n",
    "            print(f'La fecha {dia}/{mes}/{year} no es correcta.El mes de Febrero del año {year} no es bisiesto')\n",
    "        \n",
    "    else:\n",
    "        print(f'la fecha es correcta: {dia} / {mes} / {year}')\n",
    "        \n",
    "else:\n",
    "    print('la fecha {dia}/{mes}/{year}no es correcta, por favor introduzca otra')\n",
    "   "
   ]
  },
  {
   "cell_type": "markdown",
   "metadata": {},
   "source": [
    "Ejercicios while"
   ]
  },
  {
   "cell_type": "markdown",
   "metadata": {},
   "source": [
    "Ejercicio 1\n",
    "Calcular la suma de los primeros 10 números naturales utilizando un bucle while\n",
    "Descripción: Utiliza un bucle while para calcular la suma de los primeros 10 números naturales (1 + 2 + 3 + ... + 10)."
   ]
  },
  {
   "cell_type": "code",
   "execution_count": null,
   "metadata": {},
   "outputs": [],
   "source": [
    "list_num = [1,2,3,4,5,6,7,8,9,10]\n"
   ]
  },
  {
   "cell_type": "markdown",
   "metadata": {},
   "source": [
    "Ejercicio 2\n",
    "Juego de adivinanza utilizando un bucle while\n",
    "Descripción: Crea un juego de adivinanza en el que el jugador tiene que adivinar un número secreto (tendrá que ser entre el 0 y el 10). Utiliza un bucle while para permitir múltiples intentos hasta que el jugador adivine correctamente."
   ]
  },
  {
   "cell_type": "code",
   "execution_count": 49,
   "metadata": {},
   "outputs": [
    {
     "name": "stdout",
     "output_type": "stream",
     "text": [
      "CORRECTO!!, el numero era el 10 y lo has conseguido en 9 intentos.\n"
     ]
    }
   ],
   "source": [
    "import random\n",
    "num_secreto = random.choice((1,2,3,4,5,6,7,8,9,10))\n",
    "num_usuario = int(input('Adivine el numero del 1 al 10'))\n",
    "intentos = 0\n",
    "while num_usuario != num_secreto:\n",
    "    num_usuario = int(input('Inténtelo de nuevo'))\n",
    "    intentos += 1\n",
    "\n",
    "print(f'CORRECTO!!, el número era el {num_secreto} y lo has conseguido en {intentos} intentos.')\n",
    "\n"
   ]
  }
 ],
 "metadata": {
  "kernelspec": {
   "display_name": "base",
   "language": "python",
   "name": "python3"
  },
  "language_info": {
   "codemirror_mode": {
    "name": "ipython",
    "version": 3
   },
   "file_extension": ".py",
   "mimetype": "text/x-python",
   "name": "python",
   "nbconvert_exporter": "python",
   "pygments_lexer": "ipython3",
   "version": "3.9.7"
  }
 },
 "nbformat": 4,
 "nbformat_minor": 2
}
