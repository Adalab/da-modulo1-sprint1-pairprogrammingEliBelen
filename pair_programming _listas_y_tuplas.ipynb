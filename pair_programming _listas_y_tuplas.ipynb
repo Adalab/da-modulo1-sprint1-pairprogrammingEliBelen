{
 "cells": [
  {
   "cell_type": "markdown",
   "metadata": {},
   "source": [
    "1.Duplicar elementos de una lista\n",
    "Descripción: Dada una lista de números, duplica cada elemento en la lista. Ejemplo:\n",
    "# dada la siguiente lista el output esperado es:\n",
    "lista = [2, 4, 6, 8]\n",
    "​\n",
    "[2, 4, 6, 8, 2, 4, 6, 8]"
   ]
  },
  {
   "cell_type": "code",
   "execution_count": 3,
   "metadata": {},
   "outputs": [
    {
     "name": "stdout",
     "output_type": "stream",
     "text": [
      "[2, 4, 6, 8, 2, 4, 6, 8]\n"
     ]
    }
   ],
   "source": [
    "\n",
    "lista = [2, 4, 6, 8]\n",
    "lista2= lista.copy()\n",
    "lista2.extend(lista)\n",
    "print(lista2)"
   ]
  },
  {
   "cell_type": "markdown",
   "metadata": {},
   "source": [
    "2.Combinar dos listas\n",
    "Descripción: Dadas dos listas, crea una nueva lista que contenga todos los elementos de ambas listas. Ejemplo:\n",
    "# dadas las siguientes listas el output esperado es:\n",
    "lista1 = [1, 2, 3]\n",
    "lista2 = [4, 5, 6]\n",
    "​\n",
    "[1, 2, 3, 4, 5, 6]"
   ]
  },
  {
   "cell_type": "code",
   "execution_count": 4,
   "metadata": {},
   "outputs": [
    {
     "name": "stdout",
     "output_type": "stream",
     "text": [
      "[1, 2, 3, 4, 5, 6]\n"
     ]
    }
   ],
   "source": [
    "\n",
    "lista1 = [1, 2, 3]\n",
    "lista2 = [4, 5, 6]\n",
    "#lista1.extend(lista2) - podríamos haber utilizado el extend como en la anterior pregunta pero para hacerlo distinto usamos +\n",
    "print(lista1+lista2) "
   ]
  },
  {
   "cell_type": "markdown",
   "metadata": {},
   "source": [
    "3.Calcular la suma de una lista de números\n",
    "Descripción: Dada una lista de números, calcula la suma de todos los elementos."
   ]
  },
  {
   "cell_type": "code",
   "execution_count": 5,
   "metadata": {},
   "outputs": [
    {
     "name": "stdout",
     "output_type": "stream",
     "text": [
      "49\n"
     ]
    }
   ],
   "source": [
    "\n",
    "lista_suma= [5,7,15,22] \n",
    "resultado_suma= lista_suma[0]+lista_suma[1]+lista_suma[2]+lista_suma[3]\n",
    "print(resultado_suma)\n"
   ]
  },
  {
   "cell_type": "markdown",
   "metadata": {},
   "source": [
    "4.Encontrar el valor máximo en una lista\n",
    "Descripción: Dada una lista de números, encuentra el valor máximo."
   ]
  },
  {
   "cell_type": "code",
   "execution_count": 6,
   "metadata": {},
   "outputs": [
    {
     "name": "stdout",
     "output_type": "stream",
     "text": [
      "40\n"
     ]
    }
   ],
   "source": [
    "\n",
    "lista_max=[26,35,40,11,18]\n",
    "print(max(lista_max))"
   ]
  },
  {
   "cell_type": "markdown",
   "metadata": {},
   "source": [
    "5.Calcular la longitud de una lista\n",
    "Descripción: Dada una lista, calcula la cantidad de elementos que contiene"
   ]
  },
  {
   "cell_type": "code",
   "execution_count": 7,
   "metadata": {},
   "outputs": [
    {
     "name": "stdout",
     "output_type": "stream",
     "text": [
      "5\n"
     ]
    }
   ],
   "source": [
    "\n",
    "print(len(lista_max))"
   ]
  },
  {
   "cell_type": "markdown",
   "metadata": {},
   "source": [
    "6.Encontrar el índice de un elemento en una lista\n",
    "Descripción: Dada una lista y un valor objetivo, encuentra el índice del primer elemento que coincida con el valor objetivo."
   ]
  },
  {
   "cell_type": "code",
   "execution_count": 8,
   "metadata": {},
   "outputs": [
    {
     "name": "stdout",
     "output_type": "stream",
     "text": [
      "1\n"
     ]
    }
   ],
   "source": [
    "\n",
    "print(lista_max.index(35))"
   ]
  },
  {
   "cell_type": "markdown",
   "metadata": {},
   "source": [
    "7.Contar ocurrencias de un elemento en una lista\n",
    "Descripción: Dada una lista y un valor objetivo, cuenta cuántas veces aparece el valor objetivo en la lista."
   ]
  },
  {
   "cell_type": "code",
   "execution_count": 9,
   "metadata": {},
   "outputs": [
    {
     "name": "stdout",
     "output_type": "stream",
     "text": [
      "4\n"
     ]
    }
   ],
   "source": [
    "\n",
    "lista_ocurrencias=[1,2,3,2,4,2,5,6,7,2,3,4]\n",
    "print(lista_ocurrencias.count(2))"
   ]
  },
  {
   "cell_type": "markdown",
   "metadata": {},
   "source": [
    "8.Obtener una sublista de una lista\n",
    "Descripción: Dada una lista, crea una nueva lista que contenga los elementos desde el índice 2 hasta el índice 5 (sin incluirlo)."
   ]
  },
  {
   "cell_type": "code",
   "execution_count": 10,
   "metadata": {},
   "outputs": [
    {
     "name": "stdout",
     "output_type": "stream",
     "text": [
      "[3, 2, 4]\n"
     ]
    }
   ],
   "source": [
    "\n",
    "lista_sub=lista_ocurrencias[2:5:]\n",
    "print(lista_sub)"
   ]
  },
  {
   "cell_type": "markdown",
   "metadata": {},
   "source": [
    "9.Obtener el último elemento de una lista\n",
    "Descripción: Dada una lista, obtén el último elemento."
   ]
  },
  {
   "cell_type": "code",
   "execution_count": null,
   "metadata": {},
   "outputs": [],
   "source": [
    "print(lista_sub[-1])"
   ]
  },
  {
   "cell_type": "markdown",
   "metadata": {},
   "source": [
    "11.Obtener una sublista de una lista\n",
    "Descripción: Dada una lista, obtén una sublista que contenga los elementos desde el índice 1 hasta el índice 3 (sin incluirlo)."
   ]
  },
  {
   "cell_type": "code",
   "execution_count": 13,
   "metadata": {},
   "outputs": [
    {
     "name": "stdout",
     "output_type": "stream",
     "text": [
      "[5, 7, 15, 22, [7, 15]]\n"
     ]
    }
   ],
   "source": [
    "\n",
    "sublista_suma=lista_suma[1:3:]\n",
    "lista_suma.append(sublista_suma)\n",
    "print(lista_suma)\n"
   ]
  },
  {
   "cell_type": "code",
   "execution_count": 17,
   "metadata": {},
   "outputs": [
    {
     "name": "stdout",
     "output_type": "stream",
     "text": [
      "[26, 35, 40, 11, 18]\n",
      "[26, 35, 100, 11, 18]\n"
     ]
    }
   ],
   "source": [
    "#ejercicio12\n",
    "#Reemplazar un elemento en una lista\n",
    "#Descripción: Dada una lista, reemplaza el segundo elemento con un nuevo valor.\n",
    "print(lista_max)\n",
    "lista_max[2]=100\n",
    "print(lista_max)"
   ]
  },
  {
   "cell_type": "code",
   "execution_count": 42,
   "metadata": {},
   "outputs": [
    {
     "name": "stdout",
     "output_type": "stream",
     "text": [
      "[3, 1, 9, 7, 5]\n"
     ]
    }
   ],
   "source": [
    "#ejercicio13\n",
    "#Obtener una lista inversa\n",
    "#Descripción: Dada una lista, obtén una nueva lista que contenga los elementos en orden inverso.\n",
    "lista_normal=[5,7,9,1,3]\n",
    "lista_normal.reverse()\n",
    "print(lista_normal)\n"
   ]
  },
  {
   "cell_type": "code",
   "execution_count": 45,
   "metadata": {},
   "outputs": [
    {
     "name": "stdout",
     "output_type": "stream",
     "text": [
      "[1, 3, 5, 7, 9]\n"
     ]
    }
   ],
   "source": [
    "#ejercicio14\n",
    "#Ordenar una lista en orden ascendente\n",
    "#Descripción: Dada una lista de números, ordénala en orden ascendente.\n",
    "lista_normal_copy = lista_normal.copy()\n",
    "lista_normal_copy.sort()\n",
    "print(lista_normal_copy)"
   ]
  },
  {
   "cell_type": "markdown",
   "metadata": {},
   "source": [
    "TUPLAS"
   ]
  },
  {
   "cell_type": "code",
   "execution_count": 47,
   "metadata": {},
   "outputs": [
    {
     "name": "stdout",
     "output_type": "stream",
     "text": [
      "1\n"
     ]
    }
   ],
   "source": [
    "#ejercicio1\n",
    "#Acceder al primer elemento de una tupla\n",
    "#Descripción: Dada una tupla, obtén el primer elemento.\n",
    "Tupla1= (1,5,3,7)\n",
    "print(Tupla1[0])"
   ]
  },
  {
   "cell_type": "code",
   "execution_count": 48,
   "metadata": {},
   "outputs": [
    {
     "name": "stdout",
     "output_type": "stream",
     "text": [
      "7\n"
     ]
    }
   ],
   "source": [
    "#ejercicio2\n",
    "#Acceder al último elemento de una tupla\n",
    "#Descripción: Dada una tupla, obtén el último elemento.\n",
    "print(Tupla1[-1])"
   ]
  },
  {
   "cell_type": "code",
   "execution_count": 49,
   "metadata": {},
   "outputs": [
    {
     "name": "stdout",
     "output_type": "stream",
     "text": [
      "4\n"
     ]
    }
   ],
   "source": [
    "#ejercicio3\n",
    "#Obtener la longitud de una tupla\n",
    "#Descripción: Dada una tupla, obtén la cantidad de elementos que contiene.\n",
    "print(len(Tupla1))"
   ]
  },
  {
   "cell_type": "code",
   "execution_count": 53,
   "metadata": {},
   "outputs": [
    {
     "name": "stdout",
     "output_type": "stream",
     "text": [
      "(1, 5, 3, 7)\n",
      "(1, 5, 3, 7, 'rojo', 'amarillo', 'verde')\n"
     ]
    }
   ],
   "source": [
    "#ejecicio4\n",
    "#Concatenar dos tuplas\n",
    "#Descripción: Dadas dos tuplas, crea una nueva tupla que contenga todos los elementos de ambas tuplas.\n",
    "print(Tupla1)\n",
    "Tupla2=('rojo','amarillo','verde')\n",
    "print(Tupla1+Tupla2)"
   ]
  },
  {
   "cell_type": "code",
   "execution_count": 55,
   "metadata": {},
   "outputs": [
    {
     "name": "stdout",
     "output_type": "stream",
     "text": [
      "('rojo', 'amarillo', 'verde')\n",
      "1\n"
     ]
    }
   ],
   "source": [
    "#ejercicio5\n",
    "#Encontrar el índice de un elemento en una tupla\n",
    "#Descripción: Dada una tupla y un valor objetivo,\n",
    "#encuentra el índice del primer elemento que coincida con el valor objetivo.\n",
    "print(Tupla2)\n",
    "print(Tupla2.index('amarillo'))"
   ]
  },
  {
   "cell_type": "code",
   "execution_count": 57,
   "metadata": {},
   "outputs": [
    {
     "name": "stdout",
     "output_type": "stream",
     "text": [
      "3\n"
     ]
    }
   ],
   "source": [
    "#ejercicio6\n",
    "#Contar ocurrencias de un elemento en una tupla\n",
    "#Descripción: Dada una tupla y un valor objetivo, \n",
    "#cuenta cuántas veces aparece el valor objetivo en la tupla\n",
    "Tupla3=(5,7,22,40,7,13,7)\n",
    "print(Tupla3.count(7))"
   ]
  },
  {
   "cell_type": "code",
   "execution_count": 59,
   "metadata": {},
   "outputs": [
    {
     "name": "stdout",
     "output_type": "stream",
     "text": [
      "(7, 22)\n"
     ]
    }
   ],
   "source": [
    "#ejercicio7\n",
    "#Obtener una subtuple de una tupla\n",
    "#Descripción: Dada una tupla, \n",
    "#crea una nueva tupla que contenga los elementos desde el índice 1 \n",
    "#hasta el índice 3 (sin incluirlo).\n",
    "Tupla_subtupla=Tupla3[1:3]\n",
    "print(Tupla_subtupla)"
   ]
  },
  {
   "cell_type": "code",
   "execution_count": 85,
   "metadata": {},
   "outputs": [
    {
     "name": "stdout",
     "output_type": "stream",
     "text": [
      "[2, 5, 4, 6, 7]\n",
      "[7, 6, 4, 5, 2]\n"
     ]
    },
    {
     "data": {
      "text/plain": [
       "tuple"
      ]
     },
     "execution_count": 85,
     "metadata": {},
     "output_type": "execute_result"
    }
   ],
   "source": [
    "#ejercicio8\n",
    "#Invertir una tupla\n",
    "#Descripción: Dada una tupla, inviértela en orden.\n",
    "Tupla4=(2,5,4,6,7)\n",
    "lista_Tupla4=list(Tupla4)\n",
    "print(lista_Tupla4)\n",
    "lista_Tupla4.reverse()\n",
    "tuple(lista_Tupla4)\n",
    "print(lista_Tupla4)\n",
    "type(Tupla4)"
   ]
  }
 ],
 "metadata": {
  "kernelspec": {
   "display_name": "base",
   "language": "python",
   "name": "python3"
  },
  "language_info": {
   "codemirror_mode": {
    "name": "ipython",
    "version": 3
   },
   "file_extension": ".py",
   "mimetype": "text/x-python",
   "name": "python",
   "nbconvert_exporter": "python",
   "pygments_lexer": "ipython3",
   "version": "3.9.7"
  }
 },
 "nbformat": 4,
 "nbformat_minor": 2
}
